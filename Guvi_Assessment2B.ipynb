{
  "cells": [
    {
      "cell_type": "markdown",
      "metadata": {
        "id": "Crzcx1qJRlWC"
      },
      "source": [
        "###### Assessment"
      ]
    },
    {
      "cell_type": "markdown",
      "metadata": {
        "id": "yWpL957DRlWR"
      },
      "source": [
        "###### I am going to provide two .csv files , you are supposed to work on them and have to provide solutions to the following problems"
      ]
    },
    {
      "cell_type": "markdown",
      "metadata": {
        "id": "BB_Yqlg0RlWT"
      },
      "source": [
        "###### import necessary libraries"
      ]
    },
    {
      "cell_type": "code",
      "execution_count": 33,
      "metadata": {
        "id": "0pWfn7x6RlWV"
      },
      "outputs": [],
      "source": [
        "import pandas as pd\n",
        "import matplotlib.pyplot as plt"
      ]
    },
    {
      "cell_type": "markdown",
      "metadata": {
        "id": "3moi4CywRlWY"
      },
      "source": [
        "###### merge those two csv files (after getting as dataframes, get them as a single dataframe)"
      ]
    },
    {
      "cell_type": "code",
      "execution_count": 34,
      "metadata": {
        "id": "4uRNT3GYRlWZ",
        "colab": {
          "base_uri": "https://localhost:8080/"
        },
        "outputId": "774ed859-1038-4e6a-8e0c-eb08ac0e36fd"
      },
      "outputs": [
        {
          "output_type": "stream",
          "name": "stdout",
          "text": [
            "              Name  python  mysql  Previous Geekions  CodeKata Score  \\\n",
            "0        A.Dharani    82.0   20.0              24500           24500   \n",
            "1      V.JEEVITHA     82.0   20.0              21740           21740   \n",
            "2      HEMAVATHI.R   100.0  100.0              19680           19680   \n",
            "3      Mugunthan S   100.0   47.0              10610           10610   \n",
            "4      Sathammai.S   100.0    8.0               8980            8980   \n",
            "..             ...     ...    ...                ...             ...   \n",
            "114  praveen raj j    24.0    0.0               2380            2380   \n",
            "115     AMARNATH D    -1.0   12.0               1890            1890   \n",
            "116           bala    32.0    0.0               1720            1720   \n",
            "117           XY Z    -1.0   -1.0                  0               0   \n",
            "118      Hariharan    -1.0   -1.0                  0               0   \n",
            "\n",
            "                                    Department  Rising  python_en  \\\n",
            "0             Computer Science and Engineering       0        NaN   \n",
            "1             Computer Science and Engineering       0        NaN   \n",
            "2             Computer Science and Engineering       0        NaN   \n",
            "3             Computer Science and Engineering       0        NaN   \n",
            "4             Computer Science and Engineering       0        NaN   \n",
            "..                                         ...     ...        ...   \n",
            "114           Computer Science and Engineering       0       -1.0   \n",
            "115  Electronics and Communication Engineering       0       52.0   \n",
            "116  Electronics and Communication Engineering       0       49.0   \n",
            "117           Computer Science and Engineering       0       20.0   \n",
            "118           Computer Science and Engineering       0       -1.0   \n",
            "\n",
            "     computational_thinking  \n",
            "0                       NaN  \n",
            "1                       NaN  \n",
            "2                       NaN  \n",
            "3                       NaN  \n",
            "4                       NaN  \n",
            "..                      ...  \n",
            "114                     0.0  \n",
            "115                    -1.0  \n",
            "116                    -1.0  \n",
            "117                    -1.0  \n",
            "118                     0.0  \n",
            "\n",
            "[119 rows x 9 columns]\n"
          ]
        }
      ],
      "source": [
        "#dt1 = pd.read_csv('/content/college_1.csv')\n",
        "#dt2 = pd.read_csv('/content/college_2.csv')\n",
        "#final_df = pd.merge(dt1,dt2, on ='',how='inner' )\n",
        "df = pd.concat(map(pd.read_csv, ['/content/college_1.csv', '/content/college_2.csv']), ignore_index=True)\n",
        "print(df)"
      ]
    },
    {
      "cell_type": "code",
      "source": [
        "dt1.shape"
      ],
      "metadata": {
        "colab": {
          "base_uri": "https://localhost:8080/"
        },
        "id": "wnN8AWYEVpsU",
        "outputId": "ce788e39-c443-4418-8335-dbbbcc8b0ccf"
      },
      "execution_count": 35,
      "outputs": [
        {
          "output_type": "execute_result",
          "data": {
            "text/plain": [
              "(84, 7)"
            ]
          },
          "metadata": {},
          "execution_count": 35
        }
      ]
    },
    {
      "cell_type": "code",
      "source": [
        "df.columns"
      ],
      "metadata": {
        "colab": {
          "base_uri": "https://localhost:8080/"
        },
        "id": "vs8O6glcVlgG",
        "outputId": "966e7e2c-a707-40d2-9c91-1b3fa3844772"
      },
      "execution_count": 36,
      "outputs": [
        {
          "output_type": "execute_result",
          "data": {
            "text/plain": [
              "Index(['Name', 'python', 'mysql', 'Previous Geekions', 'CodeKata Score',\n",
              "       'Department', 'Rising', 'python_en', 'computational_thinking'],\n",
              "      dtype='object')"
            ]
          },
          "metadata": {},
          "execution_count": 36
        }
      ]
    },
    {
      "cell_type": "code",
      "source": [
        "df.to_csv(\"Exceeded_expectations.csv\")"
      ],
      "metadata": {
        "id": "C-yLpgKIY7ub"
      },
      "execution_count": 37,
      "outputs": []
    },
    {
      "cell_type": "code",
      "source": [
        "df = pd.read_csv(\"/content/Exceeded_expectations.csv\",index_col= 0)"
      ],
      "metadata": {
        "id": "dv2xVucPYoQN"
      },
      "execution_count": 38,
      "outputs": []
    },
    {
      "cell_type": "markdown",
      "metadata": {
        "id": "T3TWFRqiRlWb"
      },
      "source": [
        "###### Take each csv file , split that csv file into multiple categories (example csv files are added in the repo) \n"
      ]
    },
    {
      "cell_type": "markdown",
      "metadata": {
        "id": "p-KkBKVnRlWd"
      },
      "source": [
        "###### consider if the codekata score exceeds 15000 points(present week) then make a csv on those observations as Exceeded expectations.csv\n"
      ]
    },
    {
      "cell_type": "markdown",
      "metadata": {
        "id": "8Tttd_tPRlWf"
      },
      "source": [
        "###### if  10000<codekata score<15000   (Reached_expectations.csv)\n",
        "\n"
      ]
    },
    {
      "cell_type": "markdown",
      "metadata": {
        "id": "ubzrQhiZRlWh"
      },
      "source": [
        "###### if  7000<codekata score<10000   (Needs_Improvement.csv)\n"
      ]
    },
    {
      "cell_type": "markdown",
      "metadata": {
        "id": "HfhgvOD0RlWj"
      },
      "source": [
        "###### if  codekate score < 7000        (Unsatisfactory.csv)"
      ]
    },
    {
      "cell_type": "code",
      "execution_count": 39,
      "metadata": {
        "id": "br-rGUTLRlWk"
      },
      "outputs": [],
      "source": [
        "df.to_csv(\"Exceeded_expectations.csv\")"
      ]
    },
    {
      "cell_type": "markdown",
      "metadata": {
        "id": "12SUpAw0RlWm"
      },
      "source": [
        "###### Average of previous week geekions vs this week geekions (i.e Previous Geekions vs CodeKata Score)"
      ]
    },
    {
      "cell_type": "code",
      "execution_count": 40,
      "metadata": {
        "id": "0TIUpkE0RlWn",
        "colab": {
          "base_uri": "https://localhost:8080/"
        },
        "outputId": "72420c05-35e9-4658-8b09-89de564ac2ff"
      },
      "outputs": [
        {
          "output_type": "execute_result",
          "data": {
            "text/plain": [
              "Previous Geekions    3842.352941\n",
              "CodeKata Score       4051.764706\n",
              "dtype: float64"
            ]
          },
          "metadata": {},
          "execution_count": 40
        }
      ],
      "source": [
        "df[[\"Previous Geekions\", \"CodeKata Score\"]].mean()"
      ]
    },
    {
      "cell_type": "markdown",
      "metadata": {
        "id": "Uhuye19VRlWo"
      },
      "source": [
        "###### No of students participated "
      ]
    },
    {
      "cell_type": "code",
      "execution_count": 41,
      "metadata": {
        "id": "frqaO_qhRlWp",
        "colab": {
          "base_uri": "https://localhost:8080/"
        },
        "outputId": "b71c6fb7-5ef5-45da-e8ce-1457ffe72fce"
      },
      "outputs": [
        {
          "output_type": "execute_result",
          "data": {
            "text/plain": [
              "119"
            ]
          },
          "metadata": {},
          "execution_count": 41
        }
      ],
      "source": [
        "df[\"Name\"].count()"
      ]
    },
    {
      "cell_type": "markdown",
      "metadata": {
        "id": "4HNKI9F0RlWp"
      },
      "source": [
        "###### #Average completion of python course or my_sql or python english or computational thinking"
      ]
    },
    {
      "cell_type": "code",
      "execution_count": 42,
      "metadata": {
        "id": "IYozirzyRlWq",
        "colab": {
          "base_uri": "https://localhost:8080/"
        },
        "outputId": "2c4de820-64e9-4deb-dbcc-d6a35bbc2f4d"
      },
      "outputs": [
        {
          "output_type": "stream",
          "name": "stdout",
          "text": [
            "Average completion of python course is: 54.35294117647059\n"
          ]
        }
      ],
      "source": [
        "total = df[\"python\"].sum()\n",
        "avg = (total/119)\n",
        "print(\"Average completion of python course is:\",avg)"
      ]
    },
    {
      "cell_type": "code",
      "source": [
        "total = df[\"mysql\"].sum()\n",
        "avg = (total/119)\n",
        "print(\"Average completion of my_sql course is:\",avg)"
      ],
      "metadata": {
        "colab": {
          "base_uri": "https://localhost:8080/"
        },
        "id": "JYwaLNETZn37",
        "outputId": "c228b57a-b633-4a79-8029-7dbc5d9e0ba2"
      },
      "execution_count": 43,
      "outputs": [
        {
          "output_type": "stream",
          "name": "stdout",
          "text": [
            "Average completion of my_sql course is: 23.5\n"
          ]
        }
      ]
    },
    {
      "cell_type": "code",
      "source": [
        "total = df[\"python_en\"].sum()\n",
        "avg = (total/119)\n",
        "print(\"Average completion of python_english course is:\",avg)"
      ],
      "metadata": {
        "colab": {
          "base_uri": "https://localhost:8080/"
        },
        "id": "yjt9qZwTZ6Xh",
        "outputId": "9bc60d87-573f-4f58-977a-dc906d9c0e7c"
      },
      "execution_count": 44,
      "outputs": [
        {
          "output_type": "stream",
          "name": "stdout",
          "text": [
            "Average completion of python_english course is: 8.722689075630251\n"
          ]
        }
      ]
    },
    {
      "cell_type": "markdown",
      "metadata": {
        "id": "n4UysRh3RlWr"
      },
      "source": [
        "###### rising star of the week (top 3 candidate who performed well in that particular week)"
      ]
    },
    {
      "cell_type": "code",
      "execution_count": 45,
      "metadata": {
        "id": "SHixHnBgRlWs"
      },
      "outputs": [],
      "source": [
        "df[\"Performance\"] = (df[\"python\"] + df[\"mysql\"] + df[\"python_en\"] + df[\"computational_thinking\"])"
      ]
    },
    {
      "cell_type": "code",
      "source": [
        "top = df[df[\"Performance\"] >= 200]\n",
        "top3 = top.head(3)\n",
        "print(\"Top 3 Candidates who performed well in that particular week are:\")\n",
        "print()\n",
        "print(top3[\"Name\"])"
      ],
      "metadata": {
        "colab": {
          "base_uri": "https://localhost:8080/"
        },
        "id": "MDrc9z0PakJ8",
        "outputId": "a29d73cb-c0bc-452b-a3e1-69378f1e850c"
      },
      "execution_count": 46,
      "outputs": [
        {
          "output_type": "stream",
          "name": "stdout",
          "text": [
            "Top 3 Candidates who performed well in that particular week are:\n",
            "\n",
            "Series([], Name: Name, dtype: object)\n"
          ]
        }
      ]
    },
    {
      "cell_type": "markdown",
      "metadata": {
        "id": "WAFGewaERlWt"
      },
      "source": [
        "###### Shining stars of the week (top 3 candidates who has highest geekions)"
      ]
    },
    {
      "cell_type": "code",
      "execution_count": 47,
      "metadata": {
        "id": "Vyz6djwsRlWt",
        "colab": {
          "base_uri": "https://localhost:8080/"
        },
        "outputId": "9d817ef6-c9f0-4cc4-fc7b-ac4ca4af7de1"
      },
      "outputs": [
        {
          "output_type": "stream",
          "name": "stdout",
          "text": [
            "Top 3 Candidates who has highest geekcoins are:\n",
            "\n",
            "0      A.Dharani\n",
            "1    V.JEEVITHA \n",
            "2    HEMAVATHI.R\n",
            "Name: Name, dtype: object\n"
          ]
        }
      ],
      "source": [
        "tp = df.head(3)\n",
        "print(\"Top 3 Candidates who has highest geekcoins are:\")\n",
        "print()\n",
        "print(tp[\"Name\"])"
      ]
    },
    {
      "cell_type": "markdown",
      "metadata": {
        "id": "p5xrphilRlWu"
      },
      "source": [
        "###### Department wise codekata performence (pie chart)"
      ]
    },
    {
      "cell_type": "code",
      "execution_count": 48,
      "metadata": {
        "id": "SMIirDiPRlWu",
        "colab": {
          "base_uri": "https://localhost:8080/",
          "height": 186
        },
        "outputId": "2f5fdd57-0edc-4ad8-a5d0-58c508d561db"
      },
      "outputs": [
        {
          "output_type": "display_data",
          "data": {
            "text/plain": [
              "<Figure size 432x288 with 1 Axes>"
            ],
            "image/png": "[encoded data removed]"
          },
          "metadata": {}
        }
      ],
      "source": [
        "labels = 'Computer Science and Engineering: Total Score = 320025--Max Score = 24500--with no of participants in %', 'Electronics and Communication Engineering: Total Score = 108335--Max Score = 10040--with no of participants in %', 'Electronics and Electrical Engineering: Total Score = 53800--Max Score = 19400--with no of participants in %'\n",
        "sizes = [63,39,17]\n",
        "colors = ['orange', 'blue', 'green']\n",
        "plt.pie(sizes,labels=labels, colors=colors,\n",
        "autopct='%1.1f%%', shadow=True, startangle=140)\n",
        "plt.axis('equal')\n",
        "plt.show()"
      ]
    },
    {
      "cell_type": "markdown",
      "metadata": {
        "id": "tC2wJCusRlWv"
      },
      "source": [
        "###### Department wise toppers (horizantal bar graph or any visual representations of your choice)"
      ]
    },
    {
      "cell_type": "code",
      "execution_count": 49,
      "metadata": {
        "id": "6vQ-XevwRlWw",
        "colab": {
          "base_uri": "https://localhost:8080/",
          "height": 246
        },
        "outputId": "486f7c5b-50b2-4d25-ca8e-982fee0dad6f"
      },
      "outputs": [
        {
          "output_type": "display_data",
          "data": {
            "text/plain": [
              "<Figure size 432x288 with 1 Axes>"
            ],
            "image/png": "[encoded data removed]"
          },
          "metadata": {}
        }
      ],
      "source": [
        "labels = 'Computer Science and Engineering - HEMAVATHI.R - 200/200 with CodeKata Score in %', 'Electronics and Communication Engineering - Guhan S - 145/200 with CodeKata Score in %', 'Electronics and Electrical Engineering - k.parvathi - 200/200 with CodeKata Score in %'\n",
        "sizes = [19680,7630,260]\n",
        "colors = ['red', 'blue', 'yellow']\n",
        "plt.pie(sizes,labels=labels, colors=colors,\n",
        "autopct='%1.1f%%', shadow=True, startangle=140)\n",
        "plt.axis('equal')\n",
        "plt.show()"
      ]
    },
    {
      "cell_type": "code",
      "execution_count": 49,
      "metadata": {
        "id": "DkkBWZ7NRlWx"
      },
      "outputs": [],
      "source": []
    },
    {
      "cell_type": "code",
      "execution_count": 49,
      "metadata": {
        "id": "7QGis_oqRlWx"
      },
      "outputs": [],
      "source": []
    },
    {
      "cell_type": "code",
      "execution_count": 49,
      "metadata": {
        "id": "dKu7E2_mRlWx"
      },
      "outputs": [],
      "source": []
    }
  ],
  "metadata": {
    "kernelspec": {
      "display_name": "Python 3",
      "language": "python",
      "name": "python3"
    },
    "language_info": {
      "codemirror_mode": {
        "name": "ipython",
        "version": 3
      },
      "file_extension": ".py",
      "mimetype": "text/x-python",
      "name": "python",
      "nbconvert_exporter": "python",
      "pygments_lexer": "ipython3",
      "version": "3.8.3"
    },
    "colab": {
      "name": "Guvi_Assessment2B.ipynb",
      "provenance": []
    }
  },
  "nbformat": 4,
  "nbformat_minor": 0
}