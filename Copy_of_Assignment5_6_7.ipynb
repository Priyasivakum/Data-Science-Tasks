{
  "cells": [
    {
      "cell_type": "code",
      "execution_count": null,
      "metadata": {
        "id": "Hf0DKYr7Ls7k"
      },
      "outputs": [],
      "source": [
        "import pandas as pd\n",
        "import matplotlib.pyplot as plt\n",
        "import numpy as np\n",
        "from sklearn import linear_model"
      ]
    },
    {
      "cell_type": "markdown",
      "metadata": {
        "id": "jSg22JYgLs70"
      },
      "source": [
        "# Assignment5\n"
      ]
    },
    {
      "cell_type": "markdown",
      "metadata": {
        "id": "hVlDA97DLs78"
      },
      "source": [
        "## Ground Cricket Chirps\n",
        "\n",
        "In _The Song of Insects_ (1948) by George W. Pierce, Pierce mechanically measured the frequency (the number of wing vibrations per second) of chirps (or pulses of sound) made by a striped ground cricket, at various ground temperatures.  Since crickets are ectotherms (cold-blooded), the rate of their physiological processes and their overall metabolism are influenced by temperature.  Consequently, there is reason to believe that temperature would have a profound effect on aspects of their behavior, such as chirp frequency.\n",
        "\n",
        "In general, it was found that crickets did not sing at temperatures colder than 60º F. or warmer than 100º F."
      ]
    },
    {
      "cell_type": "code",
      "execution_count": null,
      "metadata": {
        "id": "MKRVcoiWLs8A"
      },
      "outputs": [],
      "source": [
        "ground_cricket_data = {\"Chirps/Second\": [20.0, 16.0, 19.8, 18.4, 17.1, 15.5, 14.7,\n",
        "                                         15.7, 15.4, 16.3, 15.0, 17.2, 16.0, 17.0,\n",
        "                                         14.4],\n",
        "                       \"Ground Temperature\": [88.6, 71.6, 93.3, 84.3, 80.6, 75.2, 69.7,\n",
        "                                              71.6, 69.4, 83.3, 79.6, 82.6, 80.6, 83.5,\n",
        "                                              76.3]}\n",
        "df = pd.DataFrame(ground_cricket_data)"
      ]
    },
    {
      "cell_type": "markdown",
      "metadata": {
        "id": "XGug6igHLs8E"
      },
      "source": [
        "### Tasks\n",
        "\n",
        "1. Find the linear regression equation for this data.\n",
        "2. Chart the original data and the equation on the chart.\n",
        "3. Find the equation's $R^2$ score (use the `.score` method) to determine whether the\n",
        "equation is a good fit for this data. (0.8 and greater is considered a strong correlation.)\n",
        "4. Extrapolate data:  If the ground temperature reached 95, then at what approximate rate would you expect the crickets to be chirping?\n",
        "5. Interpolate data:  With a listening device, you discovered that on a particular morning the crickets were chirping at a rate of 18 chirps per second.  What was the approximate ground temperature that morning? "
      ]
    },
    {
      "cell_type": "code",
      "source": [
        "df.head(10)"
      ],
      "metadata": {
        "id": "FV-9QUc2NiHw"
      },
      "execution_count": null,
      "outputs": []
    },
    {
      "cell_type": "code",
      "source": [
        "df.shape"
      ],
      "metadata": {
        "id": "lVq7CPTIQ-5b"
      },
      "execution_count": null,
      "outputs": []
    },
    {
      "cell_type": "code",
      "source": [
        "df.describe()"
      ],
      "metadata": {
        "id": "Ozn9qQD6RFV0"
      },
      "execution_count": null,
      "outputs": []
    },
    {
      "cell_type": "markdown",
      "source": [
        "Checking null values"
      ],
      "metadata": {
        "id": "Tt8hoA4yRR0I"
      }
    },
    {
      "cell_type": "code",
      "source": [
        "df.isnull().sum()"
      ],
      "metadata": {
        "id": "mQHjbTCiRKWu"
      },
      "execution_count": null,
      "outputs": []
    },
    {
      "cell_type": "markdown",
      "source": [
        "checking for duplicates"
      ],
      "metadata": {
        "id": "sxiWPLToRec_"
      }
    },
    {
      "cell_type": "code",
      "source": [
        "df.duplicated()"
      ],
      "metadata": {
        "id": "ZMVEzKR0RoY2"
      },
      "execution_count": null,
      "outputs": []
    },
    {
      "cell_type": "markdown",
      "source": [
        "Checking Linear relationship"
      ],
      "metadata": {
        "id": "Ku9CwNdpokN0"
      }
    },
    {
      "cell_type": "code",
      "source": [
        "df.plot(x='Chirps/Second',y='Ground Temperature',style='o')\n",
        "plt.show()"
      ],
      "metadata": {
        "id": "Ze5rhdPOojjY"
      },
      "execution_count": null,
      "outputs": []
    },
    {
      "cell_type": "code",
      "source": [
        "df.corr()"
      ],
      "metadata": {
        "id": "G08wDUbnrf95"
      },
      "execution_count": null,
      "outputs": []
    },
    {
      "cell_type": "markdown",
      "source": [
        "This indicates that there is a Linear relationship between the features.0.83 indicates strroing positive linear relationship."
      ],
      "metadata": {
        "id": "LBZ8j0mRrpK5"
      }
    },
    {
      "cell_type": "code",
      "source": [
        "X = df.loc[:, ['Chirps/Second']].values # select all rows and select all columns except the last column as my feature\n",
        "y = df.loc[:, 'Ground Temperature'].values"
      ],
      "metadata": {
        "id": "TT2_kfFMrlup"
      },
      "execution_count": null,
      "outputs": []
    },
    {
      "cell_type": "code",
      "source": [
        "from sklearn.linear_model import LinearRegression #importing all the required functions\n",
        "regressor = LinearRegression()\n",
        " # spredicted score = m * hours + c  \n",
        "\"Symtax : varName = ModelName(modelHyperParams)\"\n",
        "regressor.fit(X,y) #Learning happens - GD is done and we get the final values of m and c"
      ],
      "metadata": {
        "id": "M8zCbpJoul8d"
      },
      "execution_count": null,
      "outputs": []
    },
    {
      "cell_type": "code",
      "source": [
        "print(regressor.intercept_) # c"
      ],
      "metadata": {
        "id": "JKqSwZOOvB6u"
      },
      "execution_count": null,
      "outputs": []
    },
    {
      "cell_type": "code",
      "source": [
        "print(regressor.coef_)"
      ],
      "metadata": {
        "id": "k7_I4tuEvKIu"
      },
      "execution_count": null,
      "outputs": []
    },
    {
      "cell_type": "code",
      "source": [
        "regressor.predict([[9.8]])"
      ],
      "metadata": {
        "id": "0283xCe7vXRE"
      },
      "execution_count": null,
      "outputs": []
    },
    {
      "cell_type": "code",
      "source": [
        "plt.scatter(X, y, color='blue')\n",
        "plt.plot(X,regressor.predict(X), color='red')"
      ],
      "metadata": {
        "id": "WaPJ13PXdEcs"
      },
      "execution_count": null,
      "outputs": []
    },
    {
      "cell_type": "markdown",
      "source": [
        "2.Chart the Original data and equation of the chart"
      ],
      "metadata": {
        "id": "ZufsuxHDglEo"
      }
    },
    {
      "cell_type": "code",
      "source": [
        "pre=regressor.coef_*[21]+regressor.intercept_\n",
        "print(pre)"
      ],
      "metadata": {
        "id": "4DuLDBeTflyL"
      },
      "execution_count": null,
      "outputs": []
    },
    {
      "cell_type": "markdown",
      "source": [
        "3.Find the equation's  R2  score (use the .score method) to determine whether the equation is a good fit for this data. (0.8 and greater is considered a strong correlation.)"
      ],
      "metadata": {
        "id": "wk_OJahZqOe0"
      }
    },
    {
      "cell_type": "code",
      "source": [
        "print('r-squared: ',regressor.score(X, y))"
      ],
      "metadata": {
        "id": "noW3518Zhjvb"
      },
      "execution_count": null,
      "outputs": []
    },
    {
      "cell_type": "markdown",
      "source": [
        "4.Extrapolate data: If the ground temperature reached 95, then at what approximate rate would you expect the crickets to be chirping?"
      ],
      "metadata": {
        "id": "6CUZRzVhmHMM"
      }
    },
    {
      "cell_type": "code",
      "source": [
        "chrips_pred=(95-regressor.intercept_)/regressor.coef_\n",
        "print(\"Approximate rate expect the crickets to be chirping\",chrips_pred)"
      ],
      "metadata": {
        "id": "eh-17-pil7sU"
      },
      "execution_count": null,
      "outputs": []
    },
    {
      "cell_type": "markdown",
      "source": [
        "5.Interpolate data: With a listening device, you discovered that on a particular morning the crickets were chirping at a rate of 18 chirps per second. What was the approximate ground temperature that morning?"
      ],
      "metadata": {
        "id": "-DbWxHvXoNxN"
      }
    },
    {
      "cell_type": "code",
      "source": [
        "Ground_temp_pred=regressor.coef_*[18]+regressor.intercept_\n",
        "print(\"The approximate ground temperature that morning\",Ground_temp_pred)"
      ],
      "metadata": {
        "id": "El0exD54ouLi"
      },
      "execution_count": null,
      "outputs": []
    },
    {
      "cell_type": "markdown",
      "metadata": {
        "id": "jKr9BwlJLs8H"
      },
      "source": [
        "# Assignment6"
      ]
    },
    {
      "cell_type": "markdown",
      "metadata": {
        "id": "XNLHbqHlLs8J"
      },
      "source": [
        "## Brain vs. Body Weight\n",
        "\n",
        "In the file `brain_body.txt`, the average brain and body weight for a number of mammal species are recorded. Load this data into a Pandas data frame.\n",
        "\n",
        "### Tasks\n",
        "\n",
        "1. Find the linear regression equation for this data for brain weight to body weight.\n",
        "2. Chart the original data and the equation on the chart.\n",
        "3. Find the equation's $R^2$ score (use the `.score` method) to determine whether the\n",
        "equation is a good fit for this data. (0.8 and greater is considered a strong correlation.)"
      ]
    },
    {
      "cell_type": "code",
      "execution_count": null,
      "metadata": {
        "id": "B3CCDFkoLs8M"
      },
      "outputs": [],
      "source": [
        "dff = pd.read_fwf(\"/content/brain_body.txt\")"
      ]
    },
    {
      "cell_type": "code",
      "source": [
        "dff.head()"
      ],
      "metadata": {
        "id": "XlkG7FAlsRFl"
      },
      "execution_count": null,
      "outputs": []
    },
    {
      "cell_type": "code",
      "source": [
        "dff.shape"
      ],
      "metadata": {
        "id": "lmUt3S7Js1ZH"
      },
      "execution_count": null,
      "outputs": []
    },
    {
      "cell_type": "code",
      "source": [
        "dff.info"
      ],
      "metadata": {
        "id": "2gBECY6-s7A7"
      },
      "execution_count": null,
      "outputs": []
    },
    {
      "cell_type": "code",
      "source": [
        "dff.describe()"
      ],
      "metadata": {
        "id": "HpUbcSHbtD-z"
      },
      "execution_count": null,
      "outputs": []
    },
    {
      "cell_type": "code",
      "source": [
        "dff.isnull().sum()"
      ],
      "metadata": {
        "id": "MeXRzpw1tj-C"
      },
      "execution_count": null,
      "outputs": []
    },
    {
      "cell_type": "code",
      "source": [
        "dff.dtypes"
      ],
      "metadata": {
        "id": "wFLpux1xtxwC"
      },
      "execution_count": null,
      "outputs": []
    },
    {
      "cell_type": "code",
      "source": [
        "dff.columns"
      ],
      "metadata": {
        "id": "OI3jcm7vzDNq"
      },
      "execution_count": null,
      "outputs": []
    },
    {
      "cell_type": "code",
      "source": [
        "iqr = dataset.Hours.quantile(0.75) - dataset.Hours.quantile(0.25)\n",
        "upper_threshold = dataset.Hours.quantile(0.75) + (1.5 * iqr)\n",
        "lower_threshold = dataset.Hours.quantile(0.25) - (1.5 * iqr)\n",
        "lower_threshold"
      ],
      "metadata": {
        "id": "AQNK9CLqY4LW"
      },
      "execution_count": null,
      "outputs": []
    },
    {
      "cell_type": "code",
      "source": [
        "reg = linear_model.LinearRegression()\n",
        "body_var = dff[['Body']]\n",
        "brain_var = dff['Brain']\n",
        "reg.fit(body_var, brain_var)"
      ],
      "metadata": {
        "id": "jrFiqVTizXcd"
      },
      "execution_count": null,
      "outputs": []
    },
    {
      "cell_type": "code",
      "source": [
        "dff['Brain'] = dff['Brain'].astype(int)\n",
        "dff['Body'] = dff['Body'].astype(int)"
      ],
      "metadata": {
        "id": "tk6hwe0ExDcJ"
      },
      "execution_count": null,
      "outputs": []
    },
    {
      "cell_type": "code",
      "source": [
        "dff.plot(x='Brain',y='Body',style='o')\n",
        "plt.show()"
      ],
      "metadata": {
        "id": "Gfr4dxJvug86"
      },
      "execution_count": null,
      "outputs": []
    },
    {
      "cell_type": "code",
      "source": [
        "dff.corr()"
      ],
      "metadata": {
        "id": "j_3QQ70_P0Lq"
      },
      "execution_count": null,
      "outputs": []
    },
    {
      "cell_type": "code",
      "source": [
        "plt.scatter(brain_var,body_var, color='red')\n",
        "pred=reg.predict(body_var)\n",
        "plt.plot(body_var,pred,color='blue')\n",
        "plt.show()"
      ],
      "metadata": {
        "id": "HiBNVVnYR6mt"
      },
      "execution_count": null,
      "outputs": []
    },
    {
      "cell_type": "code",
      "source": [
        "print('r-squared: ',reg.score(body_var,brain_var))"
      ],
      "metadata": {
        "id": "pwkHl4PCQbHm"
      },
      "execution_count": null,
      "outputs": []
    },
    {
      "cell_type": "code",
      "source": [
        "pre=reg.coef_*[3.385]+reg.intercept_\n",
        "print(abs(pre))"
      ],
      "metadata": {
        "id": "B_7x2BpfRB0R"
      },
      "execution_count": null,
      "outputs": []
    },
    {
      "cell_type": "markdown",
      "source": [
        "R squared is greater than 0.8 which determine the model accuracy also indicates strong  positive linear relation with the data."
      ],
      "metadata": {
        "id": "VrCwdi7zT-Mf"
      }
    },
    {
      "cell_type": "code",
      "source": [
        "from sklearn import metrics \n",
        "print('R2- SCORE:', metrics.r2_score(y_test,y_pred))"
      ],
      "metadata": {
        "id": "mPzjo14BRLgw"
      },
      "execution_count": null,
      "outputs": []
    },
    {
      "cell_type": "markdown",
      "metadata": {
        "id": "4McSeR3bLs8P"
      },
      "source": [
        "# Assignment7"
      ]
    },
    {
      "cell_type": "markdown",
      "metadata": {
        "id": "4tXVXcikLs8S"
      },
      "source": [
        "## Salary Discrimination\n",
        "\n",
        "The file `salary.txt` contains data for 52 tenure-track professors at a small Midwestern college. This data was used in legal proceedings in the 1980s about discrimination against women in salary.\n",
        "\n",
        "The data in the file, by column:\n",
        "\n",
        "1. Sex. 1 for female, 0 for male.\n",
        "2. Rank. 1 for assistant professor, 2 for associate professor, 3 for full professor.\n",
        "3. Year. Number of years in current rank.\n",
        "4. Degree. Highest degree. 1 for doctorate, 0 for master's.\n",
        "5. YSdeg. Years since highest degree was earned.\n",
        "6. Salary. Salary/year in dollars.\n",
        "\n",
        "### Tasks\n",
        "\n",
        "1. Find the linear regression equation for this data using columns 1-5 to column 6.\n",
        "2. Find the selection of columns with the best $R^2$ score.\n",
        "3. Report whether sex is a factor in salary."
      ]
    },
    {
      "cell_type": "code",
      "execution_count": null,
      "metadata": {
        "id": "uEswe-EBLs8U"
      },
      "outputs": [],
      "source": [
        "df = pd.read_fwf(\"salary.txt\", header=None, \n",
        "                 names=[\"Sex\", \"Rank\", \"Year\", \"Degree\", \"YSdeg\", \"Salary\"])"
      ]
    },
    {
      "cell_type": "code",
      "source": [
        "df"
      ],
      "metadata": {
        "id": "2QRtCe6xX9jI"
      },
      "execution_count": null,
      "outputs": []
    },
    {
      "cell_type": "code",
      "source": [
        "feature = ['Sex', 'Rank', 'Year', 'Degree', 'YSdeg']\n",
        "x = df[feature]\n",
        "y = df.Salary"
      ],
      "metadata": {
        "id": "rUHBJStCZRzQ"
      },
      "execution_count": null,
      "outputs": []
    },
    {
      "cell_type": "code",
      "source": [
        "reg = linear_model.LinearRegression()\n",
        "reg.fit(x,y)"
      ],
      "metadata": {
        "id": "7H1ZvGT5ZowC"
      },
      "execution_count": null,
      "outputs": []
    },
    {
      "cell_type": "code",
      "source": [
        "df.head()"
      ],
      "metadata": {
        "id": "5s9rJxOS2_Vw"
      },
      "execution_count": null,
      "outputs": []
    },
    {
      "cell_type": "code",
      "source": [
        "df.dtypes"
      ],
      "metadata": {
        "id": "aS21BaEn4Dxo"
      },
      "execution_count": null,
      "outputs": []
    },
    {
      "cell_type": "code",
      "source": [
        "df.describe()"
      ],
      "metadata": {
        "id": "XhMASQp14bkh"
      },
      "execution_count": null,
      "outputs": []
    },
    {
      "cell_type": "code",
      "source": [
        "df.info()"
      ],
      "metadata": {
        "id": "bTstkylj42ti"
      },
      "execution_count": null,
      "outputs": []
    },
    {
      "cell_type": "code",
      "source": [
        "df.isnull().sum()"
      ],
      "metadata": {
        "id": "JbmpmrA55x_H"
      },
      "execution_count": null,
      "outputs": []
    },
    {
      "cell_type": "code",
      "source": [
        "df.duplicated(subset=['Sex', 'Rank', 'Year','Degree','YSdeg','Salary'])"
      ],
      "metadata": {
        "id": "eG5gOah754J5"
      },
      "execution_count": null,
      "outputs": []
    },
    {
      "cell_type": "markdown",
      "source": [
        "EDA"
      ],
      "metadata": {
        "id": "Q608ViN75kqJ"
      }
    },
    {
      "cell_type": "code",
      "source": [
        "df.groupby('Sex')['Salary'].mean().plot()\n",
        "plt.show()"
      ],
      "metadata": {
        "id": "tK2wzrGI48Gv"
      },
      "execution_count": null,
      "outputs": []
    },
    {
      "cell_type": "code",
      "source": [
        "df.groupby('Degree')['Salary'].mean().plot()\n",
        "plt.show()"
      ],
      "metadata": {
        "id": "Vvzb9Xzc6h9H"
      },
      "execution_count": null,
      "outputs": []
    },
    {
      "cell_type": "code",
      "source": [
        "df.groupby('Rank')['Salary'].mean().plot()\n",
        "plt.show()"
      ],
      "metadata": {
        "id": "lw8pcX666uIt"
      },
      "execution_count": null,
      "outputs": []
    },
    {
      "cell_type": "code",
      "source": [
        "df.groupby('Year')['Salary'].mean().plot()\n",
        "plt.show()"
      ],
      "metadata": {
        "id": "7pQJangE63yN"
      },
      "execution_count": null,
      "outputs": []
    },
    {
      "cell_type": "code",
      "source": [
        "df.groupby('YSdeg')['Salary'].mean().plot()\n",
        "plt.show()"
      ],
      "metadata": {
        "id": "bKGXIwSj7EdY"
      },
      "execution_count": null,
      "outputs": []
    },
    {
      "cell_type": "code",
      "source": [
        "from sklearn.model_selection import train_test_split\n",
        "X_train, X_test, y_train, y_test = train_test_split(x, y, test_size=0.2, random_state=0)"
      ],
      "metadata": {
        "id": "vO6N0Gd17dfU"
      },
      "execution_count": null,
      "outputs": []
    },
    {
      "cell_type": "markdown",
      "source": [
        "Scaling"
      ],
      "metadata": {
        "id": "FaVDOdUY7z_w"
      }
    },
    {
      "cell_type": "code",
      "source": [
        "from sklearn.preprocessing import StandardScaler ## standrard scalig \n",
        "scaler = StandardScaler() #initialise to a variable\n",
        "scaler.fit(X_train,y_train) # we are finding the values of mean and sd from the td\n",
        "X_train_scaled = scaler.transform(X_train) # fit (mean, sd) and then transform the training data\n",
        "X_test_scaled = scaler.transform(X_test)"
      ],
      "metadata": {
        "id": "fJMKOFgu7mTk"
      },
      "execution_count": null,
      "outputs": []
    },
    {
      "cell_type": "markdown",
      "source": [
        "Model "
      ],
      "metadata": {
        "id": "AOzHpJ887xVe"
      }
    },
    {
      "cell_type": "code",
      "source": [
        "from sklearn.linear_model import LinearRegression\n",
        "regressor = LinearRegression()\n",
        "regressor.fit(X_train_scaled, y_train)"
      ],
      "metadata": {
        "id": "fo53IsIZ7ugp"
      },
      "execution_count": null,
      "outputs": []
    },
    {
      "cell_type": "code",
      "source": [
        "regressor.intercept_"
      ],
      "metadata": {
        "id": "vwFvShXj8Ddl"
      },
      "execution_count": null,
      "outputs": []
    },
    {
      "cell_type": "code",
      "source": [
        "from sklearn import metrics\n",
        "print('R2- SCORE:', metrics.r2_score(y_test,y_pred))"
      ],
      "metadata": {
        "id": "Kv9U1VkT8kNu"
      },
      "execution_count": null,
      "outputs": []
    },
    {
      "cell_type": "code",
      "source": [
        "df[['Sex','Salary']].corr()"
      ],
      "metadata": {
        "id": "biX-uJez-Cy5"
      },
      "execution_count": null,
      "outputs": []
    },
    {
      "cell_type": "markdown",
      "source": [
        "Sex has no influence over salary. There is no proper linear relation between Sex and Salary"
      ],
      "metadata": {
        "id": "4jCiRAtjdIYI"
      }
    },
    {
      "cell_type": "markdown",
      "source": [
        "1.Here we have two dominant linear relationships Rank and Year.\n",
        "\n",
        "2.very less influenced factors are Degree and YSdeg\n",
        "\n",
        "3.Sex gives very less linear relationship. So, clearly there is no salary discremenation by Sex.\n",
        "\n",
        "\n",
        "\n",
        "\n",
        "\n",
        "\n"
      ],
      "metadata": {
        "id": "7ljnxbG3diW4"
      }
    }
  ],
  "metadata": {
    "kernelspec": {
      "display_name": "Python 3",
      "language": "python",
      "name": "python3"
    },
    "language_info": {
      "codemirror_mode": {
        "name": "ipython",
        "version": 3
      },
      "file_extension": ".py",
      "mimetype": "text/x-python",
      "name": "python",
      "nbconvert_exporter": "python",
      "pygments_lexer": "ipython3",
      "version": "3.8.3"
    },
    "colab": {
      "provenance": [],
      "collapsed_sections": []
    }
  },
  "nbformat": 4,
  "nbformat_minor": 0
}